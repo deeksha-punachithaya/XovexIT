{
  "nbformat": 4,
  "nbformat_minor": 0,
  "metadata": {
    "colab": {
      "name": "SpeechRecognitionNew.ipynb",
      "provenance": [],
      "authorship_tag": "ABX9TyMdc/7qHqS7+ScnFcGjV1Aa",
      "include_colab_link": true
    },
    "kernelspec": {
      "name": "python3",
      "display_name": "Python 3"
    },
    "accelerator": "GPU"
  },
  "cells": [
    {
      "cell_type": "markdown",
      "metadata": {
        "id": "view-in-github",
        "colab_type": "text"
      },
      "source": [
        "<a href=\"https://colab.research.google.com/github/deeksha-punachithaya/XovexIT/blob/master/TensorflowSpeechRecognition%231.ipynb\" target=\"_parent\"><img src=\"https://colab.research.google.com/assets/colab-badge.svg\" alt=\"Open In Colab\"/></a>"
      ]
    },
    {
      "cell_type": "code",
      "metadata": {
        "id": "EAjRiLgkiAgi",
        "colab_type": "code",
        "colab": {}
      },
      "source": [
        "! pip install -q kaggle"
      ],
      "execution_count": 0,
      "outputs": []
    },
    {
      "cell_type": "code",
      "metadata": {
        "id": "k2s8xD3000iu",
        "colab_type": "code",
        "colab": {}
      },
      "source": [
        " ! mkdir ~/.kaggle\n",
        " ! cp kaggle.json ~/.kaggle/"
      ],
      "execution_count": 0,
      "outputs": []
    },
    {
      "cell_type": "code",
      "metadata": {
        "id": "ESKEMEeS1H33",
        "colab_type": "code",
        "colab": {}
      },
      "source": [
        "! chmod 600 ~/.kaggle/kaggle.json"
      ],
      "execution_count": 0,
      "outputs": []
    },
    {
      "cell_type": "code",
      "metadata": {
        "id": "sPt9vRWm1Ugv",
        "colab_type": "code",
        "colab": {
          "base_uri": "https://localhost:8080/",
          "height": 428
        },
        "outputId": "1590de13-78aa-4fb0-ab6f-49722880a957"
      },
      "source": [
        "! kaggle datasets list"
      ],
      "execution_count": 4,
      "outputs": [
        {
          "output_type": "stream",
          "text": [
            "Warning: Looks like you're using an outdated API Version, please consider updating (server 1.5.6 / client 1.5.4)\n",
            "ref                                                            title                                                size  lastUpdated          downloadCount  \n",
            "-------------------------------------------------------------  --------------------------------------------------  -----  -------------------  -------------  \n",
            "allen-institute-for-ai/CORD-19-research-challenge              COVID-19 Open Research Dataset Challenge (CORD-19)    1GB  2020-04-11 13:32:24          51637  \n",
            "roche-data-science-coalition/uncover                           UNCOVER COVID-19 Challenge                          123MB  2020-04-08 22:04:30           3528  \n",
            "praveengovi/coronahack-chest-xraydataset                       CoronaHack -Chest X-Ray-Dataset                       1GB  2020-03-20 01:26:40            375  \n",
            "katerpillar/meteonet                                           MeteoNet North-West France                           11GB  2020-04-16 08:35:45             11  \n",
            "andrewmvd/covid19-ct-scans                                     COVID-19 CT scans                                   662MB  2020-03-19 11:07:02            275  \n",
            "shuyangli94/interview-npr-media-dialog-transcripts             INTERVIEW: NPR Media Dialog Transcripts             293MB  2020-04-07 01:59:42             20  \n",
            "ikiulian/global-hospital-beds-capacity-for-covid19             Global Hospital Beds Capacity (for covid-19)        277KB  2020-04-15 15:15:32             18  \n",
            "tunguz/covid19-genomes                                         COVID-19 Genomes                                    133KB  2020-04-13 15:18:40             18  \n",
            "divyansh22/flight-delay-prediction                             January Flight Delay Prediction                      23MB  2020-04-14 13:15:41             11  \n",
            "benroshan/factors-affecting-campus-placement                   Campus Placement                                      5KB  2020-04-11 11:09:02             19  \n",
            "imdevskp/india-district-wise-shape-files                       India 2020 District Level Shape files                22MB  2020-04-10 09:03:16             22  \n",
            "bobbyscience/league-of-legends-diamond-ranked-games-10-min     League of Legends Diamond Ranked Games (10 min)     539KB  2020-04-13 13:53:02             14  \n",
            "lalish99/covid19-mx                                            COVID-19 MX                                         709KB  2020-04-16 01:17:28              4  \n",
            "kimjihoo/coronavirusdataset                                    Data Science for COVID-19 (DS4C)                      3MB  2020-04-14 05:18:00          28993  \n",
            "sudalairajkumar/novel-corona-virus-2019-dataset                Novel Corona Virus 2019 Dataset                     748KB  2020-04-15 03:13:49         145756  \n",
            "fireballbyedimyrnmom/us-counties-covid-19-dataset              US counties COVID 19 dataset                        501KB  2020-04-16 12:57:46           4184  \n",
            "clmentbisaillon/fake-and-real-news-dataset                     Fake and real news dataset                           41MB  2020-03-26 18:51:15           1360  \n",
            "unanimad/dataisbeautiful                                       Reddit - Data is Beautiful                           11MB  2020-04-14 14:11:20           1796  \n",
            "jessemostipak/hotel-booking-demand                             Hotel booking demand                                  1MB  2020-02-13 01:27:20          14761  \n",
            "paultimothymooney/covid19-containment-and-mitigation-measures  COVID-19 containment and mitigation measures        141KB  2020-04-15 19:55:02           1749  \n"
          ],
          "name": "stdout"
        }
      ]
    },
    {
      "cell_type": "code",
      "metadata": {
        "id": "nfHL7DDX1YH-",
        "colab_type": "code",
        "colab": {
          "base_uri": "https://localhost:8080/",
          "height": 258
        },
        "outputId": "623a7d99-bcd5-4e87-eaca-a2d763575d3d"
      },
      "source": [
        "!kaggle competitions download -c tensorflow-speech-recognition-challenge"
      ],
      "execution_count": 5,
      "outputs": [
        {
          "output_type": "stream",
          "text": [
            "Warning: Looks like you're using an outdated API Version, please consider updating (server 1.5.6 / client 1.5.4)\n",
            "Downloading test.7z to /content\n",
            " 99% 2.45G/2.46G [00:49<00:00, 74.5MB/s]\n",
            "100% 2.46G/2.46G [00:49<00:00, 53.5MB/s]\n",
            "Downloading sample_submission.7z to /content\n",
            "  0% 0.00/501k [00:00<?, ?B/s]\n",
            "100% 501k/501k [00:00<00:00, 68.7MB/s]\n",
            "Downloading train.7z to /content\n",
            " 99% 1.04G/1.04G [00:23<00:00, 49.6MB/s]\n",
            "100% 1.04G/1.04G [00:24<00:00, 46.7MB/s]\n",
            "Downloading link_to_gcp_credits_form.txt to /content\n",
            "  0% 0.00/50.0 [00:00<?, ?B/s]\n",
            "100% 50.0/50.0 [00:00<00:00, 51.2kB/s]\n"
          ],
          "name": "stdout"
        }
      ]
    },
    {
      "cell_type": "code",
      "metadata": {
        "id": "bLQmyeL51inh",
        "colab_type": "code",
        "colab": {
          "base_uri": "https://localhost:8080/",
          "height": 1000
        },
        "outputId": "e68c9798-476e-4cc8-b8e9-c0fdebe1e9c7"
      },
      "source": [
        "# ! mkdir train\n",
        "! apt-get install dtrx\n",
        "! dtrx /content/train.7z"
      ],
      "execution_count": 6,
      "outputs": [
        {
          "output_type": "stream",
          "text": [
            "Reading package lists... Done\n",
            "Building dependency tree       \n",
            "Reading state information... Done\n",
            "The following additional packages will be installed:\n",
            "  cabextract cpio debugedit libdw1 liblua5.2-0 libmagic-mgc libmagic1\n",
            "  libmspack0 librpm8 librpmbuild8 librpmio8 librpmsign8 libunshield0 rpm\n",
            "  rpm-common rpm2cpio unshield\n",
            "Suggested packages:\n",
            "  libarchive1 rpm-i18n file alien elfutils rpmlint rpm2html\n",
            "The following NEW packages will be installed:\n",
            "  cabextract cpio debugedit dtrx libdw1 liblua5.2-0 libmagic-mgc libmagic1\n",
            "  libmspack0 librpm8 librpmbuild8 librpmio8 librpmsign8 libunshield0 rpm\n",
            "  rpm-common rpm2cpio unshield\n",
            "0 upgraded, 18 newly installed, 0 to remove and 25 not upgraded.\n",
            "Need to get 1,264 kB of archives.\n",
            "After this operation, 9,115 kB of additional disk space will be used.\n",
            "Get:1 http://archive.ubuntu.com/ubuntu bionic-updates/main amd64 cpio amd64 2.12+dfsg-6ubuntu0.18.04.1 [86.2 kB]\n",
            "Get:2 http://archive.ubuntu.com/ubuntu bionic-updates/main amd64 libmagic-mgc amd64 1:5.32-2ubuntu0.3 [184 kB]\n",
            "Get:3 http://archive.ubuntu.com/ubuntu bionic-updates/main amd64 libmagic1 amd64 1:5.32-2ubuntu0.3 [68.7 kB]\n",
            "Get:4 http://archive.ubuntu.com/ubuntu bionic-updates/main amd64 libmspack0 amd64 0.6-3ubuntu0.3 [37.5 kB]\n",
            "Get:5 http://archive.ubuntu.com/ubuntu bionic/universe amd64 cabextract amd64 1.6-1.1 [21.8 kB]\n",
            "Get:6 http://archive.ubuntu.com/ubuntu bionic-updates/main amd64 libdw1 amd64 0.170-0.4ubuntu0.1 [203 kB]\n",
            "Get:7 http://archive.ubuntu.com/ubuntu bionic/main amd64 liblua5.2-0 amd64 5.2.4-1.1build1 [108 kB]\n",
            "Get:8 http://archive.ubuntu.com/ubuntu bionic/universe amd64 librpmio8 amd64 4.14.1+dfsg1-2 [74.6 kB]\n",
            "Get:9 http://archive.ubuntu.com/ubuntu bionic/universe amd64 debugedit amd64 4.14.1+dfsg1-2 [19.1 kB]\n",
            "Get:10 http://archive.ubuntu.com/ubuntu bionic/universe amd64 librpm8 amd64 4.14.1+dfsg1-2 [173 kB]\n",
            "Get:11 http://archive.ubuntu.com/ubuntu bionic/universe amd64 librpmbuild8 amd64 4.14.1+dfsg1-2 [70.5 kB]\n",
            "Get:12 http://archive.ubuntu.com/ubuntu bionic/universe amd64 librpmsign8 amd64 4.14.1+dfsg1-2 [8,184 B]\n",
            "Get:13 http://archive.ubuntu.com/ubuntu bionic/universe amd64 rpm-common amd64 4.14.1+dfsg1-2 [28.7 kB]\n",
            "Get:14 http://archive.ubuntu.com/ubuntu bionic/universe amd64 rpm2cpio amd64 4.14.1+dfsg1-2 [7,988 B]\n",
            "Get:15 http://archive.ubuntu.com/ubuntu bionic/universe amd64 rpm amd64 4.14.1+dfsg1-2 [119 kB]\n",
            "Get:16 http://archive.ubuntu.com/ubuntu bionic/universe amd64 libunshield0 amd64 1.4.2-1 [20.8 kB]\n",
            "Get:17 http://archive.ubuntu.com/ubuntu bionic/universe amd64 unshield amd64 1.4.2-1 [10.2 kB]\n",
            "Get:18 http://archive.ubuntu.com/ubuntu bionic/universe amd64 dtrx all 7.1-1 [22.1 kB]\n",
            "Fetched 1,264 kB in 8s (153 kB/s)\n",
            "Selecting previously unselected package cpio.\n",
            "(Reading database ... 144568 files and directories currently installed.)\n",
            "Preparing to unpack .../00-cpio_2.12+dfsg-6ubuntu0.18.04.1_amd64.deb ...\n",
            "Unpacking cpio (2.12+dfsg-6ubuntu0.18.04.1) ...\n",
            "Selecting previously unselected package libmagic-mgc.\n",
            "Preparing to unpack .../01-libmagic-mgc_1%3a5.32-2ubuntu0.3_amd64.deb ...\n",
            "Unpacking libmagic-mgc (1:5.32-2ubuntu0.3) ...\n",
            "Selecting previously unselected package libmagic1:amd64.\n",
            "Preparing to unpack .../02-libmagic1_1%3a5.32-2ubuntu0.3_amd64.deb ...\n",
            "Unpacking libmagic1:amd64 (1:5.32-2ubuntu0.3) ...\n",
            "Selecting previously unselected package libmspack0:amd64.\n",
            "Preparing to unpack .../03-libmspack0_0.6-3ubuntu0.3_amd64.deb ...\n",
            "Unpacking libmspack0:amd64 (0.6-3ubuntu0.3) ...\n",
            "Selecting previously unselected package cabextract.\n",
            "Preparing to unpack .../04-cabextract_1.6-1.1_amd64.deb ...\n",
            "Unpacking cabextract (1.6-1.1) ...\n",
            "Selecting previously unselected package libdw1:amd64.\n",
            "Preparing to unpack .../05-libdw1_0.170-0.4ubuntu0.1_amd64.deb ...\n",
            "Unpacking libdw1:amd64 (0.170-0.4ubuntu0.1) ...\n",
            "Selecting previously unselected package liblua5.2-0:amd64.\n",
            "Preparing to unpack .../06-liblua5.2-0_5.2.4-1.1build1_amd64.deb ...\n",
            "Unpacking liblua5.2-0:amd64 (5.2.4-1.1build1) ...\n",
            "Selecting previously unselected package librpmio8.\n",
            "Preparing to unpack .../07-librpmio8_4.14.1+dfsg1-2_amd64.deb ...\n",
            "Unpacking librpmio8 (4.14.1+dfsg1-2) ...\n",
            "Selecting previously unselected package debugedit.\n",
            "Preparing to unpack .../08-debugedit_4.14.1+dfsg1-2_amd64.deb ...\n",
            "Unpacking debugedit (4.14.1+dfsg1-2) ...\n",
            "Selecting previously unselected package librpm8.\n",
            "Preparing to unpack .../09-librpm8_4.14.1+dfsg1-2_amd64.deb ...\n",
            "Unpacking librpm8 (4.14.1+dfsg1-2) ...\n",
            "Selecting previously unselected package librpmbuild8.\n",
            "Preparing to unpack .../10-librpmbuild8_4.14.1+dfsg1-2_amd64.deb ...\n",
            "Unpacking librpmbuild8 (4.14.1+dfsg1-2) ...\n",
            "Selecting previously unselected package librpmsign8.\n",
            "Preparing to unpack .../11-librpmsign8_4.14.1+dfsg1-2_amd64.deb ...\n",
            "Unpacking librpmsign8 (4.14.1+dfsg1-2) ...\n",
            "Selecting previously unselected package rpm-common.\n",
            "Preparing to unpack .../12-rpm-common_4.14.1+dfsg1-2_amd64.deb ...\n",
            "Unpacking rpm-common (4.14.1+dfsg1-2) ...\n",
            "Selecting previously unselected package rpm2cpio.\n",
            "Preparing to unpack .../13-rpm2cpio_4.14.1+dfsg1-2_amd64.deb ...\n",
            "Unpacking rpm2cpio (4.14.1+dfsg1-2) ...\n",
            "Selecting previously unselected package rpm.\n",
            "Preparing to unpack .../14-rpm_4.14.1+dfsg1-2_amd64.deb ...\n",
            "Unpacking rpm (4.14.1+dfsg1-2) ...\n",
            "Selecting previously unselected package libunshield0:amd64.\n",
            "Preparing to unpack .../15-libunshield0_1.4.2-1_amd64.deb ...\n",
            "Unpacking libunshield0:amd64 (1.4.2-1) ...\n",
            "Selecting previously unselected package unshield.\n",
            "Preparing to unpack .../16-unshield_1.4.2-1_amd64.deb ...\n",
            "Unpacking unshield (1.4.2-1) ...\n",
            "Selecting previously unselected package dtrx.\n",
            "Preparing to unpack .../17-dtrx_7.1-1_all.deb ...\n",
            "Unpacking dtrx (7.1-1) ...\n",
            "Setting up cpio (2.12+dfsg-6ubuntu0.18.04.1) ...\n",
            "update-alternatives: using /bin/mt-gnu to provide /bin/mt (mt) in auto mode\n",
            "Setting up libmspack0:amd64 (0.6-3ubuntu0.3) ...\n",
            "Setting up libdw1:amd64 (0.170-0.4ubuntu0.1) ...\n",
            "Setting up libmagic-mgc (1:5.32-2ubuntu0.3) ...\n",
            "Setting up libmagic1:amd64 (1:5.32-2ubuntu0.3) ...\n",
            "Setting up cabextract (1.6-1.1) ...\n",
            "Setting up liblua5.2-0:amd64 (5.2.4-1.1build1) ...\n",
            "Setting up libunshield0:amd64 (1.4.2-1) ...\n",
            "Setting up unshield (1.4.2-1) ...\n",
            "Setting up librpmio8 (4.14.1+dfsg1-2) ...\n",
            "Setting up debugedit (4.14.1+dfsg1-2) ...\n",
            "Setting up librpm8 (4.14.1+dfsg1-2) ...\n",
            "Setting up rpm-common (4.14.1+dfsg1-2) ...\n",
            "Setting up librpmsign8 (4.14.1+dfsg1-2) ...\n",
            "Setting up librpmbuild8 (4.14.1+dfsg1-2) ...\n",
            "Setting up rpm2cpio (4.14.1+dfsg1-2) ...\n",
            "Setting up rpm (4.14.1+dfsg1-2) ...\n",
            "Setting up dtrx (7.1-1) ...\n",
            "Processing triggers for man-db (2.8.3-2ubuntu0.1) ...\n",
            "Processing triggers for libc-bin (2.27-3ubuntu1) ...\n",
            "/sbin/ldconfig.real: /usr/local/lib/python3.6/dist-packages/ideep4py/lib/libmkldnn.so.0 is not a symbolic link\n",
            "\n"
          ],
          "name": "stdout"
        }
      ]
    },
    {
      "cell_type": "code",
      "metadata": {
        "id": "N7SqXrIf-Uqw",
        "colab_type": "code",
        "colab": {}
      },
      "source": [
        "import os\n",
        "import librosa\n",
        "import IPython.display as ipd\n",
        "import matplotlib.pyplot as plt\n",
        "import numpy as np\n",
        "from scipy.io import wavfile\n",
        "import warnings\n",
        "\n",
        "warnings.filterwarnings(\"ignore\")"
      ],
      "execution_count": 0,
      "outputs": []
    },
    {
      "cell_type": "code",
      "metadata": {
        "id": "VX3alpQcC6hh",
        "colab_type": "code",
        "colab": {
          "base_uri": "https://localhost:8080/",
          "height": 54
        },
        "outputId": "cc9ceb25-d301-4c95-ee11-6d4615cb43a8"
      },
      "source": [
        "labels = os.listdir('train/audio')\n",
        "print(labels, end=' ')"
      ],
      "execution_count": 18,
      "outputs": [
        {
          "output_type": "stream",
          "text": [
            "['go', 'marvin', 'eight', 'house', 'nine', 'happy', 'off', 'five', 'bed', 'two', 'bird', 'stop', 'up', 'no', 'sheila', 'right', 'down', 'tree', '_background_noise_', 'left', 'on', 'dog', 'one', 'four', 'three', 'six', 'seven', 'wow', 'yes', 'cat', 'zero'] "
          ],
          "name": "stdout"
        }
      ]
    },
    {
      "cell_type": "code",
      "metadata": {
        "id": "zv-X_7SVDDCC",
        "colab_type": "code",
        "colab": {
          "base_uri": "https://localhost:8080/",
          "height": 293
        },
        "outputId": "563e39cf-f78e-4858-b1cc-3694e1cd8ce8"
      },
      "source": [
        "train_audio_path = 'train/audio/'\n",
        "samples, sample_rate = librosa.load(train_audio_path+'yes/0a7c2a8d_nohash_0.wav', sr = 16000)\n",
        "fig = plt.figure(figsize=(14, 8))\n",
        "ax1 = fig.add_subplot(211)\n",
        "ax1.set_title('Raw wave of ' + '../input/train/audio/yes/0a7c2a8d_nohash_0.wav')\n",
        "ax1.set_xlabel('time')\n",
        "ax1.set_ylabel('Amplitude')\n",
        "ax1.plot(np.linspace(0, sample_rate/len(samples), sample_rate), samples)"
      ],
      "execution_count": 19,
      "outputs": [
        {
          "output_type": "execute_result",
          "data": {
            "text/plain": [
              "[<matplotlib.lines.Line2D at 0x7fda066518d0>]"
            ]
          },
          "metadata": {
            "tags": []
          },
          "execution_count": 19
        },
        {
          "output_type": "display_data",
          "data": {
            "image/png": "[encoded data removed]",
            "text/plain": [
              "<Figure size 1008x576 with 1 Axes>"
            ]
          },
          "metadata": {
            "tags": [],
            "needs_background": "light"
          }
        }
      ]
    },
    {
      "cell_type": "code",
      "metadata": {
        "id": "nMZg3p9cDbZh",
        "colab_type": "code",
        "colab": {
          "base_uri": "https://localhost:8080/",
          "height": 75
        },
        "outputId": "c3995232-4cfc-4303-82bd-dac7dd5d4b91"
      },
      "source": [
        "ipd.Audio(samples, rate=sample_rate)"
      ],
      "execution_count": 20,
      "outputs": [
        {
          "output_type": "execute_result",
          "data": {
            "text/html": [
              "\n",
              "                <audio controls=\"controls\" >\n",
              "                    <source src=\"data:audio/wav;base64,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\" type=\"audio/wav\" />\n",
              "                    Your browser does not support the audio element.\n",
              "                </audio>\n",
              "              "
            ],
            "text/plain": [
              "<IPython.lib.display.Audio object>"
            ]
          },
          "metadata": {
            "tags": []
          },
          "execution_count": 20
        }
      ]
    },
    {
      "cell_type": "code",
      "metadata": {
        "id": "HIBvPBTTDgIi",
        "colab_type": "code",
        "colab": {
          "base_uri": "https://localhost:8080/",
          "height": 34
        },
        "outputId": "7a1ecbca-0047-4e2e-83a4-7dae6305b235"
      },
      "source": [
        "print(sample_rate)"
      ],
      "execution_count": 21,
      "outputs": [
        {
          "output_type": "stream",
          "text": [
            "16000\n"
          ],
          "name": "stdout"
        }
      ]
    },
    {
      "cell_type": "code",
      "metadata": {
        "id": "gtD55ryYDlCK",
        "colab_type": "code",
        "colab": {
          "base_uri": "https://localhost:8080/",
          "height": 75
        },
        "outputId": "7da9da10-8d84-4f86-face-d3b6599cc597"
      },
      "source": [
        "samples = librosa.resample(samples, sample_rate, 8000)\n",
        "ipd.Audio(samples, rate=8000)"
      ],
      "execution_count": 22,
      "outputs": [
        {
          "output_type": "execute_result",
          "data": {
            "text/html": [
              "\n",
              "                <audio controls=\"controls\" >\n",
              "                    <source src=\"data:audio/wav;base64,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\" type=\"audio/wav\" />\n",
              "                    Your browser does not support the audio element.\n",
              "                </audio>\n",
              "              "
            ],
            "text/plain": [
              "<IPython.lib.display.Audio object>"
            ]
          },
          "metadata": {
            "tags": []
          },
          "execution_count": 22
        }
      ]
    },
    {
      "cell_type": "code",
      "metadata": {
        "id": "cFH1ll58DpMW",
        "colab_type": "code",
        "colab": {
          "base_uri": "https://localhost:8080/",
          "height": 253
        },
        "outputId": "ba035782-6d1e-40c5-db65-c1a164e1bd65"
      },
      "source": [
        "no_of_recordings=[]\n",
        "for label in labels:\n",
        "    waves = [f for f in os.listdir(train_audio_path + '/'+ label) if f.endswith('.wav')]\n",
        "    no_of_recordings.append(len(waves))\n",
        "    \n",
        "#plot\n",
        "plt.figure(figsize=(30,5))\n",
        "index = np.arange(len(labels))\n",
        "plt.bar(index, no_of_recordings)\n",
        "plt.xlabel('Commands', fontsize=12)\n",
        "plt.ylabel('No of recordings', fontsize=12)\n",
        "plt.xticks(index, labels, fontsize=15, rotation=60)\n",
        "plt.title('No. of recordings for each command')\n",
        "plt.show()"
      ],
      "execution_count": 23,
      "outputs": [
        {
          "output_type": "display_data",
          "data": {
            "image/png": "[encoded data removed]",
            "text/plain": [
              "<Figure size 2160x360 with 1 Axes>"
            ]
          },
          "metadata": {
            "tags": [],
            "needs_background": "light"
          }
        }
      ]
    },
    {
      "cell_type": "code",
      "metadata": {
        "id": "GnoMCBhxDvSH",
        "colab_type": "code",
        "colab": {
          "base_uri": "https://localhost:8080/",
          "height": 367
        },
        "outputId": "a4dc8d17-3af9-4a33-f708-fd59bdab4a34"
      },
      "source": [
        "duration_of_recordings=[]\n",
        "for label in labels:\n",
        "    waves = [f for f in os.listdir(train_audio_path + '/'+ label) if f.endswith('.wav')]\n",
        "    for wav in waves:\n",
        "        sample_rate, samples = wavfile.read(train_audio_path + '/' + label + '/' + wav)\n",
        "        duration_of_recordings.append(float(len(samples)/sample_rate))\n",
        "    \n",
        "plt.hist(np.array(duration_of_recordings))"
      ],
      "execution_count": 24,
      "outputs": [
        {
          "output_type": "execute_result",
          "data": {
            "text/plain": [
              "(array([6.4721e+04, 0.0000e+00, 0.0000e+00, 0.0000e+00, 0.0000e+00,\n",
              "        0.0000e+00, 5.0000e+00, 0.0000e+00, 0.0000e+00, 1.0000e+00]),\n",
              " array([ 0.3715625 ,  9.85271875, 19.333875  , 28.81503125, 38.2961875 ,\n",
              "        47.77734375, 57.2585    , 66.73965625, 76.2208125 , 85.70196875,\n",
              "        95.183125  ]),\n",
              " <a list of 10 Patch objects>)"
            ]
          },
          "metadata": {
            "tags": []
          },
          "execution_count": 24
        },
        {
          "output_type": "display_data",
          "data": {
            "image/png": "[encoded data removed]",
            "text/plain": [
              "<Figure size 432x288 with 1 Axes>"
            ]
          },
          "metadata": {
            "tags": [],
            "needs_background": "light"
          }
        }
      ]
    },
    {
      "cell_type": "code",
      "metadata": {
        "id": "7EH2LKJ1EgZN",
        "colab_type": "code",
        "colab": {
          "base_uri": "https://localhost:8080/",
          "height": 544
        },
        "outputId": "1aa0edb2-a996-4bf4-b0a5-2eb3dbe8e41c"
      },
      "source": [
        "train_audio_path = 'train/audio/'\n",
        "\n",
        "all_wave = []\n",
        "all_label = []\n",
        "for label in labels:\n",
        "    print(label)\n",
        "    waves = [f for f in os.listdir(train_audio_path + '/'+ label) if f.endswith('.wav')]\n",
        "    for wav in waves:\n",
        "        samples, sample_rate = librosa.load(train_audio_path + '/' + label + '/' + wav, sr = 16000)\n",
        "        samples = librosa.resample(samples, sample_rate, 8000)\n",
        "        if(len(samples)== 8000) : \n",
        "            all_wave.append(samples)\n",
        "            all_label.append(label)"
      ],
      "execution_count": 26,
      "outputs": [
        {
          "output_type": "stream",
          "text": [
            "go\n",
            "marvin\n",
            "eight\n",
            "house\n",
            "nine\n",
            "happy\n",
            "off\n",
            "five\n",
            "bed\n",
            "two\n",
            "bird\n",
            "stop\n",
            "up\n",
            "no\n",
            "sheila\n",
            "right\n",
            "down\n",
            "tree\n",
            "_background_noise_\n",
            "left\n",
            "on\n",
            "dog\n",
            "one\n",
            "four\n",
            "three\n",
            "six\n",
            "seven\n",
            "wow\n",
            "yes\n",
            "cat\n",
            "zero\n"
          ],
          "name": "stdout"
        }
      ]
    },
    {
      "cell_type": "code",
      "metadata": {
        "id": "W7IAXVWSEpRr",
        "colab_type": "code",
        "colab": {}
      },
      "source": [
        "from sklearn.preprocessing import LabelEncoder\n",
        "le = LabelEncoder()\n",
        "y=le.fit_transform(all_label)\n",
        "classes= list(le.classes_)"
      ],
      "execution_count": 0,
      "outputs": []
    },
    {
      "cell_type": "code",
      "metadata": {
        "id": "-uGs-B2IE_zu",
        "colab_type": "code",
        "colab": {
          "base_uri": "https://localhost:8080/",
          "height": 34
        },
        "outputId": "0c6794e7-5bc6-420b-c204-96fee36e127b"
      },
      "source": [
        "from keras.utils import np_utils\n",
        "y=np_utils.to_categorical(y, num_classes=len(labels))"
      ],
      "execution_count": 28,
      "outputs": [
        {
          "output_type": "stream",
          "text": [
            "Using TensorFlow backend.\n"
          ],
          "name": "stderr"
        }
      ]
    },
    {
      "cell_type": "code",
      "metadata": {
        "id": "KDIQRxzJFAdO",
        "colab_type": "code",
        "colab": {}
      },
      "source": [
        "all_wave = np.array(all_wave).reshape(-1,8000,1)"
      ],
      "execution_count": 0,
      "outputs": []
    },
    {
      "cell_type": "code",
      "metadata": {
        "id": "ebv5j6GJFAsd",
        "colab_type": "code",
        "colab": {}
      },
      "source": [
        "from sklearn.model_selection import train_test_split\n",
        "x_tr, x_val, y_tr, y_val = train_test_split(np.array(all_wave),np.array(y),stratify=y,test_size = 0.2,random_state=777,shuffle=True)"
      ],
      "execution_count": 0,
      "outputs": []
    },
    {
      "cell_type": "code",
      "metadata": {
        "id": "dPrwbTM2G8Lr",
        "colab_type": "code",
        "colab": {}
      },
      "source": [
        "from keras.layers import Dense, Dropout, Flatten, Conv1D, Input, MaxPooling1D\n",
        "from keras.models import Model\n",
        "from keras.callbacks import EarlyStopping, ModelCheckpoint\n",
        "from keras import backend as K"
      ],
      "execution_count": 0,
      "outputs": []
    },
    {
      "cell_type": "code",
      "metadata": {
        "id": "TcsknCXEFAqD",
        "colab_type": "code",
        "colab": {
          "base_uri": "https://localhost:8080/",
          "height": 799
        },
        "outputId": "450f2a17-c1e0-4699-851a-f8e236fec0a9"
      },
      "source": [
        "from keras.layers import Dense, Dropout, Flatten, Conv1D, Input, MaxPooling1D\n",
        "from keras.models import Model\n",
        "from keras.callbacks import EarlyStopping, ModelCheckpoint\n",
        "from keras import backend as K\n",
        "K.clear_session()\n",
        "\n",
        "inputs = Input(shape=(8000,1))\n",
        "\n",
        "#First Conv1D layer\n",
        "conv = Conv1D(8,13, padding='valid', activation='relu', strides=1)(inputs)\n",
        "conv = MaxPooling1D(3)(conv)\n",
        "conv = Dropout(0.3)(conv)\n",
        "\n",
        "#Second Conv1D layer\n",
        "conv = Conv1D(16, 11, padding='valid', activation='relu', strides=1)(conv)\n",
        "conv = MaxPooling1D(3)(conv)\n",
        "conv = Dropout(0.3)(conv)\n",
        "\n",
        "#Third Conv1D layer\n",
        "conv = Conv1D(32, 9, padding='valid', activation='relu', strides=1)(conv)\n",
        "conv = MaxPooling1D(3)(conv)\n",
        "conv = Dropout(0.3)(conv)\n",
        "\n",
        "#Fourth Conv1D layer\n",
        "conv = Conv1D(64, 7, padding='valid', activation='relu', strides=1)(conv)\n",
        "conv = MaxPooling1D(3)(conv)\n",
        "conv = Dropout(0.3)(conv)\n",
        "\n",
        "#Flatten layer\n",
        "conv = Flatten()(conv)\n",
        "\n",
        "#Dense Layer 1\n",
        "conv = Dense(256, activation='relu')(conv)\n",
        "conv = Dropout(0.3)(conv)\n",
        "\n",
        "#Dense Layer 2\n",
        "conv = Dense(128, activation='relu')(conv)\n",
        "conv = Dropout(0.3)(conv)\n",
        "\n",
        "outputs = Dense(len(labels), activation='softmax')(conv)\n",
        "\n",
        "model = Model(inputs, outputs)\n",
        "model.summary()"
      ],
      "execution_count": 31,
      "outputs": [
        {
          "output_type": "stream",
          "text": [
            "Model: \"model_1\"\n",
            "_________________________________________________________________\n",
            "Layer (type)                 Output Shape              Param #   \n",
            "=================================================================\n",
            "input_1 (InputLayer)         (None, 8000, 1)           0         \n",
            "_________________________________________________________________\n",
            "conv1d_1 (Conv1D)            (None, 7988, 8)           112       \n",
            "_________________________________________________________________\n",
            "max_pooling1d_1 (MaxPooling1 (None, 2662, 8)           0         \n",
            "_________________________________________________________________\n",
            "dropout_1 (Dropout)          (None, 2662, 8)           0         \n",
            "_________________________________________________________________\n",
            "conv1d_2 (Conv1D)            (None, 2652, 16)          1424      \n",
            "_________________________________________________________________\n",
            "max_pooling1d_2 (MaxPooling1 (None, 884, 16)           0         \n",
            "_________________________________________________________________\n",
            "dropout_2 (Dropout)          (None, 884, 16)           0         \n",
            "_________________________________________________________________\n",
            "conv1d_3 (Conv1D)            (None, 876, 32)           4640      \n",
            "_________________________________________________________________\n",
            "max_pooling1d_3 (MaxPooling1 (None, 292, 32)           0         \n",
            "_________________________________________________________________\n",
            "dropout_3 (Dropout)          (None, 292, 32)           0         \n",
            "_________________________________________________________________\n",
            "conv1d_4 (Conv1D)            (None, 286, 64)           14400     \n",
            "_________________________________________________________________\n",
            "max_pooling1d_4 (MaxPooling1 (None, 95, 64)            0         \n",
            "_________________________________________________________________\n",
            "dropout_4 (Dropout)          (None, 95, 64)            0         \n",
            "_________________________________________________________________\n",
            "flatten_1 (Flatten)          (None, 6080)              0         \n",
            "_________________________________________________________________\n",
            "dense_1 (Dense)              (None, 256)               1556736   \n",
            "_________________________________________________________________\n",
            "dropout_5 (Dropout)          (None, 256)               0         \n",
            "_________________________________________________________________\n",
            "dense_2 (Dense)              (None, 128)               32896     \n",
            "_________________________________________________________________\n",
            "dropout_6 (Dropout)          (None, 128)               0         \n",
            "_________________________________________________________________\n",
            "dense_3 (Dense)              (None, 31)                3999      \n",
            "=================================================================\n",
            "Total params: 1,614,207\n",
            "Trainable params: 1,614,207\n",
            "Non-trainable params: 0\n",
            "_________________________________________________________________\n"
          ],
          "name": "stdout"
        }
      ]
    },
    {
      "cell_type": "code",
      "metadata": {
        "id": "QznVC4eNHAw3",
        "colab_type": "code",
        "colab": {}
      },
      "source": [
        "inputs = Input(shape=(8000,1))\n",
        "model = Sequential()\n",
        "model.add(Conv2D(12, kernel_size=3, input_shape=(40,11,1), activation='relu'))\n",
        "model.add(Flatten())\n",
        "model.add(Dense(3, activation='softmax'))\n",
        "model.compile(loss=\"categorical_crossentropy\",\n",
        "                  optimizer=\"adam\",\n",
        "                  metrics=['accuracy'])\n",
        "model.summary()"
      ],
      "execution_count": 0,
      "outputs": []
    },
    {
      "cell_type": "code",
      "metadata": {
        "id": "SsZQjcp2FAny",
        "colab_type": "code",
        "colab": {}
      },
      "source": [
        "model.compile(loss='categorical_crossentropy',optimizer='adam',metrics=['accuracy'])"
      ],
      "execution_count": 0,
      "outputs": []
    },
    {
      "cell_type": "code",
      "metadata": {
        "id": "niBP2zF7FPxt",
        "colab_type": "code",
        "colab": {}
      },
      "source": [
        "es = EarlyStopping(monitor='val_loss', mode='min', verbose=1, patience=10, min_delta=0.0001) \n",
        "mc = ModelCheckpoint('best_model.hdf5', monitor='val_acc', verbose=1, save_best_only=True, mode='max')"
      ],
      "execution_count": 0,
      "outputs": []
    },
    {
      "cell_type": "code",
      "metadata": {
        "id": "pSgfOvwnFP-x",
        "colab_type": "code",
        "colab": {
          "base_uri": "https://localhost:8080/",
          "height": 1000
        },
        "outputId": "502203b0-40d2-4449-ed76-15a270d470bc"
      },
      "source": [
        "history=model.fit(x_tr, y_tr ,epochs=100, callbacks=[es,mc], batch_size=32, validation_data=(x_val,y_val))"
      ],
      "execution_count": 34,
      "outputs": [
        {
          "output_type": "stream",
          "text": [
            "Train on 46601 samples, validate on 11651 samples\n",
            "Epoch 1/100\n",
            "46601/46601 [==============================] - 27s 587us/step - loss: 2.8300 - accuracy: 0.1643 - val_loss: 2.2204 - val_accuracy: 0.3244\n",
            "Epoch 2/100\n",
            "46601/46601 [==============================] - 20s 437us/step - loss: 2.0548 - accuracy: 0.3572 - val_loss: 1.7423 - val_accuracy: 0.4588\n",
            "Epoch 3/100\n",
            "46601/46601 [==============================] - 20s 438us/step - loss: 1.7392 - accuracy: 0.4545 - val_loss: 1.4356 - val_accuracy: 0.5700\n",
            "Epoch 4/100\n",
            "46601/46601 [==============================] - 21s 442us/step - loss: 1.5460 - accuracy: 0.5186 - val_loss: 1.2327 - val_accuracy: 0.6266\n",
            "Epoch 5/100\n",
            "46601/46601 [==============================] - 21s 443us/step - loss: 1.4008 - accuracy: 0.5656 - val_loss: 1.1269 - val_accuracy: 0.6701\n",
            "Epoch 6/100\n",
            "46601/46601 [==============================] - 21s 440us/step - loss: 1.2946 - accuracy: 0.6005 - val_loss: 1.0280 - val_accuracy: 0.6957\n",
            "Epoch 7/100\n",
            "46601/46601 [==============================] - 21s 443us/step - loss: 1.2012 - accuracy: 0.6292 - val_loss: 0.9780 - val_accuracy: 0.7138\n",
            "Epoch 8/100\n",
            "46601/46601 [==============================] - 21s 447us/step - loss: 1.1373 - accuracy: 0.6482 - val_loss: 0.9307 - val_accuracy: 0.7285\n",
            "Epoch 9/100\n",
            "46601/46601 [==============================] - 21s 446us/step - loss: 1.0898 - accuracy: 0.6663 - val_loss: 0.8387 - val_accuracy: 0.7528\n",
            "Epoch 10/100\n",
            "46601/46601 [==============================] - 21s 445us/step - loss: 1.0497 - accuracy: 0.6782 - val_loss: 0.8513 - val_accuracy: 0.7568\n",
            "Epoch 11/100\n",
            "46601/46601 [==============================] - 21s 448us/step - loss: 1.0080 - accuracy: 0.6923 - val_loss: 0.8014 - val_accuracy: 0.7642\n",
            "Epoch 12/100\n",
            "46601/46601 [==============================] - 21s 448us/step - loss: 0.9733 - accuracy: 0.7007 - val_loss: 0.8233 - val_accuracy: 0.7547\n",
            "Epoch 13/100\n",
            "46601/46601 [==============================] - 21s 447us/step - loss: 0.9488 - accuracy: 0.7099 - val_loss: 0.8249 - val_accuracy: 0.7512\n",
            "Epoch 14/100\n",
            "46601/46601 [==============================] - 21s 450us/step - loss: 0.9223 - accuracy: 0.7186 - val_loss: 0.7522 - val_accuracy: 0.7849\n",
            "Epoch 15/100\n",
            "46601/46601 [==============================] - 21s 442us/step - loss: 0.9183 - accuracy: 0.7201 - val_loss: 0.7353 - val_accuracy: 0.7856\n",
            "Epoch 16/100\n",
            "46601/46601 [==============================] - 21s 446us/step - loss: 0.8801 - accuracy: 0.7323 - val_loss: 0.7513 - val_accuracy: 0.7762\n",
            "Epoch 17/100\n",
            "46601/46601 [==============================] - 21s 451us/step - loss: 0.8660 - accuracy: 0.7352 - val_loss: 0.7431 - val_accuracy: 0.7772\n",
            "Epoch 18/100\n",
            "46601/46601 [==============================] - 21s 448us/step - loss: 0.8440 - accuracy: 0.7413 - val_loss: 0.7034 - val_accuracy: 0.7914\n",
            "Epoch 19/100\n",
            "46601/46601 [==============================] - 21s 444us/step - loss: 0.8359 - accuracy: 0.7442 - val_loss: 0.6924 - val_accuracy: 0.7953\n",
            "Epoch 20/100\n",
            "46601/46601 [==============================] - 21s 448us/step - loss: 0.8210 - accuracy: 0.7481 - val_loss: 0.7245 - val_accuracy: 0.7845\n",
            "Epoch 21/100\n",
            "46601/46601 [==============================] - 21s 444us/step - loss: 0.7987 - accuracy: 0.7567 - val_loss: 0.6920 - val_accuracy: 0.7934\n",
            "Epoch 22/100\n",
            "46601/46601 [==============================] - 21s 444us/step - loss: 0.7848 - accuracy: 0.7599 - val_loss: 0.6847 - val_accuracy: 0.7990\n",
            "Epoch 23/100\n",
            "46601/46601 [==============================] - 21s 441us/step - loss: 0.7801 - accuracy: 0.7617 - val_loss: 0.6817 - val_accuracy: 0.7953\n",
            "Epoch 24/100\n",
            "46601/46601 [==============================] - 21s 445us/step - loss: 0.7702 - accuracy: 0.7635 - val_loss: 0.7041 - val_accuracy: 0.7902\n",
            "Epoch 25/100\n",
            "46601/46601 [==============================] - 21s 445us/step - loss: 0.7613 - accuracy: 0.7654 - val_loss: 0.6812 - val_accuracy: 0.7981\n",
            "Epoch 26/100\n",
            "46601/46601 [==============================] - 21s 443us/step - loss: 0.7449 - accuracy: 0.7708 - val_loss: 0.6387 - val_accuracy: 0.8129\n",
            "Epoch 27/100\n",
            "46601/46601 [==============================] - 21s 442us/step - loss: 0.7482 - accuracy: 0.7723 - val_loss: 0.6775 - val_accuracy: 0.7985\n",
            "Epoch 28/100\n",
            "46601/46601 [==============================] - 21s 443us/step - loss: 0.7496 - accuracy: 0.7729 - val_loss: 0.7079 - val_accuracy: 0.7921\n",
            "Epoch 29/100\n",
            "46601/46601 [==============================] - 21s 452us/step - loss: 0.7188 - accuracy: 0.7794 - val_loss: 0.6684 - val_accuracy: 0.8043\n",
            "Epoch 30/100\n",
            "46601/46601 [==============================] - 21s 451us/step - loss: 0.7226 - accuracy: 0.7780 - val_loss: 0.7054 - val_accuracy: 0.7916\n",
            "Epoch 31/100\n",
            "46601/46601 [==============================] - 21s 446us/step - loss: 0.7133 - accuracy: 0.7832 - val_loss: 0.6297 - val_accuracy: 0.8129\n",
            "Epoch 32/100\n",
            "46601/46601 [==============================] - 21s 448us/step - loss: 0.7188 - accuracy: 0.7794 - val_loss: 0.6696 - val_accuracy: 0.8011\n",
            "Epoch 33/100\n",
            "46601/46601 [==============================] - 21s 445us/step - loss: 0.6981 - accuracy: 0.7858 - val_loss: 0.6443 - val_accuracy: 0.8067\n",
            "Epoch 34/100\n",
            "46601/46601 [==============================] - 21s 448us/step - loss: 0.6890 - accuracy: 0.7888 - val_loss: 0.6250 - val_accuracy: 0.8156\n",
            "Epoch 35/100\n",
            "46601/46601 [==============================] - 21s 448us/step - loss: 0.6897 - accuracy: 0.7916 - val_loss: 0.6060 - val_accuracy: 0.8181\n",
            "Epoch 36/100\n",
            "46601/46601 [==============================] - 21s 448us/step - loss: 0.6752 - accuracy: 0.7930 - val_loss: 0.6170 - val_accuracy: 0.8176\n",
            "Epoch 37/100\n",
            "46601/46601 [==============================] - 21s 446us/step - loss: 0.6811 - accuracy: 0.7903 - val_loss: 0.6354 - val_accuracy: 0.8122\n",
            "Epoch 38/100\n",
            "46601/46601 [==============================] - 21s 451us/step - loss: 0.6678 - accuracy: 0.7947 - val_loss: 0.6395 - val_accuracy: 0.8148\n",
            "Epoch 39/100\n",
            "46601/46601 [==============================] - 21s 450us/step - loss: 0.6701 - accuracy: 0.7955 - val_loss: 0.6417 - val_accuracy: 0.8090\n",
            "Epoch 40/100\n",
            "46601/46601 [==============================] - 21s 450us/step - loss: 0.6622 - accuracy: 0.7994 - val_loss: 0.6050 - val_accuracy: 0.8240\n",
            "Epoch 41/100\n",
            "46601/46601 [==============================] - 21s 448us/step - loss: 0.6472 - accuracy: 0.7991 - val_loss: 0.6085 - val_accuracy: 0.8177\n",
            "Epoch 42/100\n",
            "46601/46601 [==============================] - 21s 448us/step - loss: 0.6457 - accuracy: 0.8011 - val_loss: 0.6109 - val_accuracy: 0.8201\n",
            "Epoch 43/100\n",
            "46601/46601 [==============================] - 21s 450us/step - loss: 0.6512 - accuracy: 0.8004 - val_loss: 0.6090 - val_accuracy: 0.8186\n",
            "Epoch 44/100\n",
            "46601/46601 [==============================] - 21s 457us/step - loss: 0.6296 - accuracy: 0.8070 - val_loss: 0.6475 - val_accuracy: 0.8066\n",
            "Epoch 45/100\n",
            "46601/46601 [==============================] - 21s 447us/step - loss: 0.6377 - accuracy: 0.8022 - val_loss: 0.6145 - val_accuracy: 0.8172\n",
            "Epoch 46/100\n",
            "46601/46601 [==============================] - 21s 450us/step - loss: 0.6384 - accuracy: 0.8047 - val_loss: 0.5932 - val_accuracy: 0.8269\n",
            "Epoch 47/100\n",
            "46601/46601 [==============================] - 21s 451us/step - loss: 0.6338 - accuracy: 0.8093 - val_loss: 0.6636 - val_accuracy: 0.8051\n",
            "Epoch 48/100\n",
            "46601/46601 [==============================] - 21s 448us/step - loss: 0.6286 - accuracy: 0.8083 - val_loss: 0.6448 - val_accuracy: 0.8058\n",
            "Epoch 49/100\n",
            "46601/46601 [==============================] - 21s 452us/step - loss: 0.6292 - accuracy: 0.8074 - val_loss: 0.6062 - val_accuracy: 0.8179\n",
            "Epoch 50/100\n",
            "46601/46601 [==============================] - 21s 447us/step - loss: 0.6201 - accuracy: 0.8114 - val_loss: 0.6125 - val_accuracy: 0.8198\n",
            "Epoch 51/100\n",
            "46601/46601 [==============================] - 21s 447us/step - loss: 0.6184 - accuracy: 0.8119 - val_loss: 0.6419 - val_accuracy: 0.8097\n",
            "Epoch 52/100\n",
            "46601/46601 [==============================] - 21s 450us/step - loss: 0.6112 - accuracy: 0.8125 - val_loss: 0.6234 - val_accuracy: 0.8156\n",
            "Epoch 53/100\n",
            "46601/46601 [==============================] - 21s 452us/step - loss: 0.6147 - accuracy: 0.8122 - val_loss: 0.5943 - val_accuracy: 0.8257\n",
            "Epoch 54/100\n",
            "46601/46601 [==============================] - 21s 451us/step - loss: 0.6077 - accuracy: 0.8147 - val_loss: 0.6283 - val_accuracy: 0.8152\n",
            "Epoch 55/100\n",
            "46601/46601 [==============================] - 21s 453us/step - loss: 0.6071 - accuracy: 0.8147 - val_loss: 0.6055 - val_accuracy: 0.8184\n",
            "Epoch 56/100\n",
            "46601/46601 [==============================] - 21s 451us/step - loss: 0.6142 - accuracy: 0.8129 - val_loss: 0.6275 - val_accuracy: 0.8159\n",
            "Epoch 00056: early stopping\n"
          ],
          "name": "stdout"
        }
      ]
    },
    {
      "cell_type": "code",
      "metadata": {
        "id": "7GCJizV2IE6V",
        "colab_type": "code",
        "colab": {}
      },
      "source": [
        "from matplotlib import pyplot\n",
        "pyplot.plot(history.history['loss'], label='train')\n",
        "pyplot.plot(history.history['val_loss'], label='test')\n",
        "pyplot.legend()\n",
        "pyplot.show()"
      ],
      "execution_count": 0,
      "outputs": []
    },
    {
      "cell_type": "code",
      "metadata": {
        "id": "uuhBBKzIGV2Y",
        "colab_type": "code",
        "colab": {}
      },
      "source": [
        "from keras.models import load_model\n",
        "model=load_model('best_model.hdf5')"
      ],
      "execution_count": 0,
      "outputs": []
    },
    {
      "cell_type": "code",
      "metadata": {
        "id": "_7HXftFVGV-J",
        "colab_type": "code",
        "colab": {}
      },
      "source": [
        "def predict(audio):\n",
        "    prob=model.predict(audio.reshape(1,8000,1))\n",
        "    index=np.argmax(prob[0])\n",
        "    return classes[index]"
      ],
      "execution_count": 0,
      "outputs": []
    },
    {
      "cell_type": "code",
      "metadata": {
        "id": "GY90JY8qGWNs",
        "colab_type": "code",
        "colab": {}
      },
      "source": [
        "import random\n",
        "index=random.randint(0,len(x_val)-1)\n",
        "samples=x_val[index].ravel()\n",
        "print(\"Audio:\",classes[np.argmax(y_val[index])])\n",
        "ipd.Audio(samples, rate=8000)"
      ],
      "execution_count": 0,
      "outputs": []
    },
    {
      "cell_type": "code",
      "metadata": {
        "id": "4_GC1tb6GWLk",
        "colab_type": "code",
        "colab": {}
      },
      "source": [
        "print(\"Text:\",predict(samples))"
      ],
      "execution_count": 0,
      "outputs": []
    },
    {
      "cell_type": "code",
      "metadata": {
        "id": "1eF0ZFL_GWKG",
        "colab_type": "code",
        "colab": {}
      },
      "source": [
        "import sounddevice as sd\n",
        "import soundfile as sf\n",
        "\n",
        "samplerate = 16000  \n",
        "duration = 1 # seconds\n",
        "filename = 'yes.wav'\n",
        "print(\"start\")\n",
        "mydata = sd.rec(int(samplerate * duration), samplerate=samplerate,\n",
        "    channels=1, blocking=True)\n",
        "print(\"end\")\n",
        "sd.wait()\n",
        "sf.write(filename, mydata, samplerate)"
      ],
      "execution_count": 0,
      "outputs": []
    },
    {
      "cell_type": "code",
      "metadata": {
        "id": "SzpAo4A4GWIU",
        "colab_type": "code",
        "colab": {}
      },
      "source": [
        "samples, sample_rate = librosa.load(filepath + '/' + 'stop.wav', sr = 16000)\n",
        "samples = librosa.resample(samples, sample_rate, 8000)\n",
        "ipd.Audio(samples,rate=8000)"
      ],
      "execution_count": 0,
      "outputs": []
    },
    {
      "cell_type": "code",
      "metadata": {
        "id": "1uHQEO9VGWGv",
        "colab_type": "code",
        "colab": {}
      },
      "source": [
        "predict(samples)"
      ],
      "execution_count": 0,
      "outputs": []
    },
    {
      "cell_type": "code",
      "metadata": {
        "id": "dlHfFz4rGWCN",
        "colab_type": "code",
        "colab": {}
      },
      "source": [
        ""
      ],
      "execution_count": 0,
      "outputs": []
    },
    {
      "cell_type": "code",
      "metadata": {
        "id": "Llew7vUfGV8I",
        "colab_type": "code",
        "colab": {}
      },
      "source": [
        ""
      ],
      "execution_count": 0,
      "outputs": []
    },
    {
      "cell_type": "code",
      "metadata": {
        "id": "FzkhxzFdGV53",
        "colab_type": "code",
        "colab": {}
      },
      "source": [
        ""
      ],
      "execution_count": 0,
      "outputs": []
    },
    {
      "cell_type": "code",
      "metadata": {
        "id": "MEJ5hQssGVz7",
        "colab_type": "code",
        "colab": {}
      },
      "source": [
        ""
      ],
      "execution_count": 0,
      "outputs": []
    }
  ]
}