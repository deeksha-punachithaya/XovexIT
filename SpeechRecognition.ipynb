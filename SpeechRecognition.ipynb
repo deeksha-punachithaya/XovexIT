{
  "nbformat": 4,
  "nbformat_minor": 0,
  "metadata": {
    "kernelspec": {
      "name": "python3",
      "display_name": "Python 3"
    },
    "language_info": {
      "codemirror_mode": {
        "name": "ipython",
        "version": 3
      },
      "file_extension": ".py",
      "mimetype": "text/x-python",
      "name": "python",
      "nbconvert_exporter": "python",
      "pygments_lexer": "ipython3",
      "version": "3.7.3"
    },
    "colab": {
      "name": "SpeechRecognition.ipynb",
      "provenance": [],
      "toc_visible": true,
      "include_colab_link": true
    },
    "accelerator": "GPU"
  },
  "cells": [
    {
      "cell_type": "markdown",
      "metadata": {
        "id": "view-in-github",
        "colab_type": "text"
      },
      "source": [
        "<a href=\"https://colab.research.google.com/github/deeksha-punachithaya/XovexIT/blob/master/SpeechRecognition.ipynb\" target=\"_parent\"><img src=\"https://colab.research.google.com/assets/colab-badge.svg\" alt=\"Open In Colab\"/></a>"
      ]
    },
    {
      "cell_type": "code",
      "metadata": {
        "id": "UPgCioUnRYe9",
        "colab_type": "code",
        "colab": {}
      },
      "source": [
        "! pip install -q kaggle"
      ],
      "execution_count": 0,
      "outputs": []
    },
    {
      "cell_type": "code",
      "metadata": {
        "id": "ydXc2EV4RZYq",
        "colab_type": "code",
        "colab": {}
      },
      "source": [
        " ! mkdir ~/.kaggle\n",
        " ! cp kaggle.json ~/.kaggle/"
      ],
      "execution_count": 0,
      "outputs": []
    },
    {
      "cell_type": "code",
      "metadata": {
        "id": "uSBEOrf-RZbV",
        "colab_type": "code",
        "colab": {}
      },
      "source": [
        "! chmod 600 ~/.kaggle/kaggle.json"
      ],
      "execution_count": 0,
      "outputs": []
    },
    {
      "cell_type": "code",
      "metadata": {
        "id": "hKQD_ju8RZd5",
        "colab_type": "code",
        "outputId": "e03d473b-aa05-4451-a1cb-c60f51f400e9",
        "colab": {
          "base_uri": "https://localhost:8080/",
          "height": 258
        }
      },
      "source": [
        "!kaggle competitions download -c tensorflow-speech-recognition-challenge"
      ],
      "execution_count": 0,
      "outputs": [
        {
          "output_type": "stream",
          "text": [
            "Warning: Looks like you're using an outdated API Version, please consider updating (server 1.5.6 / client 1.5.4)\n",
            "Downloading train.7z to /content\n",
            " 99% 1.04G/1.04G [00:25<00:00, 47.9MB/s]\n",
            "100% 1.04G/1.04G [00:25<00:00, 44.0MB/s]\n",
            "Downloading link_to_gcp_credits_form.txt to /content\n",
            "  0% 0.00/50.0 [00:00<?, ?B/s]\n",
            "100% 50.0/50.0 [00:00<00:00, 42.0kB/s]\n",
            "Downloading test.7z to /content\n",
            "100% 2.45G/2.46G [00:46<00:00, 66.7MB/s]\n",
            "100% 2.46G/2.46G [00:46<00:00, 56.6MB/s]\n",
            "Downloading sample_submission.7z to /content\n",
            "  0% 0.00/501k [00:00<?, ?B/s]\n",
            "100% 501k/501k [00:00<00:00, 70.4MB/s]\n"
          ],
          "name": "stdout"
        }
      ]
    },
    {
      "cell_type": "code",
      "metadata": {
        "id": "FR5y7qu5RZic",
        "colab_type": "code",
        "colab": {}
      },
      "source": [
        "! apt-get install dtrx\n",
        "! dtrx /content/train.7z"
      ],
      "execution_count": 0,
      "outputs": []
    },
    {
      "cell_type": "code",
      "metadata": {
        "id": "e16fx0_6-4CN",
        "colab_type": "code",
        "outputId": "5a051327-9d27-4c0b-9b60-ed033f9fe1fa",
        "colab": {
          "base_uri": "https://localhost:8080/",
          "height": 102
        }
      },
      "source": [
        "! apt-get install ffmpeg"
      ],
      "execution_count": 0,
      "outputs": [
        {
          "output_type": "stream",
          "text": [
            "Reading package lists... Done\n",
            "Building dependency tree       \n",
            "Reading state information... Done\n",
            "ffmpeg is already the newest version (7:3.4.6-0ubuntu0.18.04.1).\n",
            "0 upgraded, 0 newly installed, 0 to remove and 25 not upgraded.\n"
          ],
          "name": "stdout"
        }
      ]
    },
    {
      "cell_type": "code",
      "metadata": {
        "id": "MGHqAudgRZlM",
        "colab_type": "code",
        "outputId": "637b56d7-20fd-42f4-a313-322168d4318d",
        "colab": {
          "base_uri": "https://localhost:8080/",
          "height": 34
        }
      },
      "source": [
        "import keras\n",
        "from keras.models import Sequential\n",
        "from keras.layers import Dense, Dropout, Flatten, Conv2D, MaxPooling2D, LSTM, Activation\n",
        "from keras.utils import to_categorical\n",
        "import matplotlib.pyplot as plt\n",
        "import os\n",
        "from sklearn.model_selection import train_test_split\n",
        "import librosa\n",
        "import numpy as np"
      ],
      "execution_count": 0,
      "outputs": [
        {
          "output_type": "stream",
          "text": [
            "Using TensorFlow backend.\n"
          ],
          "name": "stderr"
        }
      ]
    },
    {
      "cell_type": "code",
      "metadata": {
        "id": "SQyNENpuRRv2",
        "colab_type": "code",
        "colab": {}
      },
      "source": [
        "# path = \"./data/\"\n",
        "path = '/content/train/audio/'"
      ],
      "execution_count": 0,
      "outputs": []
    },
    {
      "cell_type": "markdown",
      "metadata": {
        "id": "RetOE9tWRRv6",
        "colab_type": "text"
      },
      "source": [
        "MFCC's represent distinct units of sound or phonemes as the shape of the vocal tract"
      ]
    },
    {
      "cell_type": "code",
      "metadata": {
        "id": "lYqvJ9U8GuhM",
        "colab_type": "code",
        "colab": {}
      },
      "source": [
        "labels = os.listdir(path)"
      ],
      "execution_count": 0,
      "outputs": []
    },
    {
      "cell_type": "code",
      "metadata": {
        "id": "K3QmvcWkRRv7",
        "colab_type": "code",
        "colab": {}
      },
      "source": [
        "max_len = 11\n",
        "# labels = os.listdir(path)\n",
        "for label in labels:\n",
        "    mfcc_vectors = []\n",
        "    wavfiles = [path + label + '/' + wavfile for wavfile in os.listdir(path + '/' + label)]\n",
        "    for wavfile in wavfiles:\n",
        "        wav, _ = librosa.load(wavfile, mono=True, sr = None)\n",
        "        wav = np.asfortranarray(wav[::3])\n",
        "        mfcc = librosa.feature.mfcc(wav, sr=22050, n_mfcc=20)\n",
        "        if (max_len > mfcc.shape[1]):\n",
        "            pad_width = max_len - mfcc.shape[1]\n",
        "            mfcc = np.pad(mfcc, pad_width=((0, 0), (0, pad_width)), mode='constant')\n",
        "        else:\n",
        "            mfcc = mfcc[:, :max_len]\n",
        "        mfcc_vectors.append(mfcc)\n",
        "    np.save(label + '.npy', mfcc_vectors)\n",
        "    print(label)"
      ],
      "execution_count": 0,
      "outputs": []
    },
    {
      "cell_type": "code",
      "metadata": {
        "id": "om8tGSh-RRv-",
        "colab_type": "code",
        "outputId": "97776b31-9118-4f7a-d36a-8adf1e1e73db",
        "colab": {
          "base_uri": "https://localhost:8080/",
          "height": 54
        }
      },
      "source": [
        "print(labels, end = \"\")"
      ],
      "execution_count": 0,
      "outputs": [
        {
          "output_type": "stream",
          "text": [
            "['seven', 'down', 'cat', 'yes', '_background_noise_', 'no', 'on', 'dog', 'four', 'bed', 'go', 'off', 'happy', 'sheila', 'up', 'tree', 'marvin', 'left', 'bird', 'one', 'house', 'wow', 'two', 'three', 'zero', 'stop', 'six', 'nine', 'right', 'eight', 'five']"
          ],
          "name": "stdout"
        }
      ]
    },
    {
      "cell_type": "code",
      "metadata": {
        "id": "wEa_8vplSfDp",
        "colab_type": "code",
        "colab": {}
      },
      "source": [
        "! apt-get install dtrx\n",
        "! dtrx /content/test.7z"
      ],
      "execution_count": 0,
      "outputs": []
    },
    {
      "cell_type": "code",
      "metadata": {
        "id": "fudWfKmViRof",
        "colab_type": "code",
        "colab": {}
      },
      "source": [
        "labels = ['seven', 'down', 'cat', 'yes', 'no', 'on', 'dog', 'four', 'bed', 'go', 'off', 'happy', \n",
        "          'sheila', 'up', 'tree', 'marvin', 'left', 'bird', 'one', 'house', 'wow', 'two', 'three', \n",
        "          'zero', 'stop', 'six', 'nine', 'right', 'eight', 'five']"
      ],
      "execution_count": 0,
      "outputs": []
    },
    {
      "cell_type": "code",
      "metadata": {
        "id": "POEaT27JRRwC",
        "colab_type": "code",
        "outputId": "6b240bd1-1f83-4463-9585-fc483cb3232b",
        "colab": {
          "base_uri": "https://localhost:8080/",
          "height": 51
        }
      },
      "source": [
        "label_indices = np.arange(0, len(labels))\n",
        "label_indices"
      ],
      "execution_count": 0,
      "outputs": [
        {
          "output_type": "execute_result",
          "data": {
            "text/plain": [
              "array([ 0,  1,  2,  3,  4,  5,  6,  7,  8,  9, 10, 11, 12, 13, 14, 15, 16,\n",
              "       17, 18, 19, 20, 21, 22, 23, 24, 25, 26, 27, 28, 29])"
            ]
          },
          "metadata": {
            "tags": []
          },
          "execution_count": 4
        }
      ]
    },
    {
      "cell_type": "code",
      "metadata": {
        "id": "MLdE-_JqRRwG",
        "colab_type": "code",
        "colab": {}
      },
      "source": [
        "X = np.load(labels[0] + '.npy')\n",
        "y = np.zeros(X.shape[0])\n",
        "\n",
        "for i, label in enumerate(labels[1:]):\n",
        "    x = np.load(label + '.npy')\n",
        "    X = np.vstack((X, x))\n",
        "    y = np.append(y, np.full(x.shape[0], fill_value= (i + 1)))\n",
        "\n",
        "assert X.shape[0] == len(y)"
      ],
      "execution_count": 0,
      "outputs": []
    },
    {
      "cell_type": "code",
      "metadata": {
        "id": "H4hR-Sm7QRUS",
        "colab_type": "code",
        "colab": {}
      },
      "source": [
        "X = X/255"
      ],
      "execution_count": 0,
      "outputs": []
    },
    {
      "cell_type": "code",
      "metadata": {
        "id": "PZs0eTqtPt-M",
        "colab_type": "code",
        "colab": {}
      },
      "source": [
        "#import cv2\n",
        "#X1 = []\n",
        "#for i in range(0, X.shape[0]):\n",
        "#  X1.append(cv2.resize(X[i], (32,32), interpolation = cv2.INTER_AREA))"
      ],
      "execution_count": 0,
      "outputs": []
    },
    {
      "cell_type": "code",
      "metadata": {
        "id": "fPAX-n1YPuGh",
        "colab_type": "code",
        "colab": {}
      },
      "source": [
        "X_train, X_test, y_train, y_test = train_test_split(X, y, test_size= 0.3, shuffle=True)"
      ],
      "execution_count": 0,
      "outputs": []
    },
    {
      "cell_type": "code",
      "metadata": {
        "id": "Jb22jnwyRRwJ",
        "colab_type": "code",
        "outputId": "0c7c27d4-9afa-4187-d3e5-9cc666625569",
        "colab": {
          "base_uri": "https://localhost:8080/",
          "height": 34
        }
      },
      "source": [
        "X.shape"
      ],
      "execution_count": 0,
      "outputs": [
        {
          "output_type": "execute_result",
          "data": {
            "text/plain": [
              "(64721, 20, 11)"
            ]
          },
          "metadata": {
            "tags": []
          },
          "execution_count": 8
        }
      ]
    },
    {
      "cell_type": "code",
      "metadata": {
        "id": "Fprywxm6RRwO",
        "colab_type": "code",
        "outputId": "1d2ca225-5a30-42b3-ba39-0da6e2eb10ad",
        "colab": {
          "base_uri": "https://localhost:8080/",
          "height": 34
        }
      },
      "source": [
        "y.shape"
      ],
      "execution_count": 0,
      "outputs": [
        {
          "output_type": "execute_result",
          "data": {
            "text/plain": [
              "(64721,)"
            ]
          },
          "metadata": {
            "tags": []
          },
          "execution_count": 9
        }
      ]
    },
    {
      "cell_type": "code",
      "metadata": {
        "id": "D0wZixZkRRwS",
        "colab_type": "code",
        "outputId": "6f185fb9-b1e2-49a0-9a0f-ef89a5a886bd",
        "colab": {
          "base_uri": "https://localhost:8080/",
          "height": 34
        }
      },
      "source": [
        "X_train.shape[0]"
      ],
      "execution_count": 0,
      "outputs": [
        {
          "output_type": "execute_result",
          "data": {
            "text/plain": [
              "45304"
            ]
          },
          "metadata": {
            "tags": []
          },
          "execution_count": 10
        }
      ]
    },
    {
      "cell_type": "code",
      "metadata": {
        "id": "VOqxFJq9RRwV",
        "colab_type": "code",
        "outputId": "5f4bbc74-1b67-4dc6-fdda-e79b61fa3fe7",
        "colab": {
          "base_uri": "https://localhost:8080/",
          "height": 34
        }
      },
      "source": [
        "X_train = X_train.reshape(X_train.shape[0], 20, 11, 1)\n",
        "X_test = X_test.reshape(X_test.shape[0], 20, 11, 1)\n",
        "X_train.shape"
      ],
      "execution_count": 0,
      "outputs": [
        {
          "output_type": "execute_result",
          "data": {
            "text/plain": [
              "(45304, 20, 11, 1)"
            ]
          },
          "metadata": {
            "tags": []
          },
          "execution_count": 28
        }
      ]
    },
    {
      "cell_type": "code",
      "metadata": {
        "id": "f5Y_c0sLRRwY",
        "colab_type": "code",
        "outputId": "8af8d2a0-7daa-42bc-b348-e0c6d86d000a",
        "colab": {
          "base_uri": "https://localhost:8080/",
          "height": 299
        }
      },
      "source": [
        "plt.imshow(X_train[105, :, :, 0])\n",
        "print(y_train[105])\n",
        "print(labels[int(y_train[105])])"
      ],
      "execution_count": 0,
      "outputs": [
        {
          "output_type": "stream",
          "text": [
            "15.0\n",
            "marvin\n"
          ],
          "name": "stdout"
        },
        {
          "output_type": "display_data",
          "data": {
            "image/png": "[encoded data removed]",
            "text/plain": [
              "<Figure size 432x288 with 1 Axes>"
            ]
          },
          "metadata": {
            "tags": [],
            "needs_background": "light"
          }
        }
      ]
    },
    {
      "cell_type": "code",
      "metadata": {
        "id": "lUys-tTxRRwe",
        "colab_type": "code",
        "colab": {}
      },
      "source": [
        "y_train = to_categorical(y_train)\n",
        "y_test = to_categorical(y_test)"
      ],
      "execution_count": 0,
      "outputs": []
    },
    {
      "cell_type": "code",
      "metadata": {
        "id": "Hvgbx7bsRRwi",
        "colab_type": "code",
        "outputId": "3f7a2300-43cc-4bb0-de8d-90b2d3375a08",
        "colab": {
          "base_uri": "https://localhost:8080/",
          "height": 493
        }
      },
      "source": [
        "model = Sequential()\n",
        "model.add(Conv2D(64, kernel_size=3, input_shape=(20,11,1), activation='relu', padding='same'))\n",
        "model.add(Conv2D(64, kernel_size=3, activation = 'relu', padding = 'same'))\n",
        "model.add(MaxPooling2D(pool_size=(2,2)))\n",
        "model.add(Conv2D(16,activation='relu',kernel_size=3,padding='same'))\n",
        "\n",
        "model.add(Conv2D(64, kernel_size=3, activation = 'relu', padding='same'))\n",
        "model.add(Dropout(0.25))\n",
        "\n",
        "model.add(Conv2D(32, kernel_size=3, activation = 'relu', padding='same'))\n",
        "model.add(Flatten())\n",
        "model.add(Dropout(0.25))\n",
        "model.add(Dense(30, activation='softmax'))\n",
        "model.compile(loss=\"categorical_crossentropy\",\n",
        "                  optimizer=\"adam\",\n",
        "                  metrics=['accuracy'])\n",
        "model.summary()"
      ],
      "execution_count": 0,
      "outputs": [
        {
          "output_type": "stream",
          "text": [
            "Model: \"sequential_3\"\n",
            "_________________________________________________________________\n",
            "Layer (type)                 Output Shape              Param #   \n",
            "=================================================================\n",
            "conv2d_11 (Conv2D)           (None, 20, 11, 64)        640       \n",
            "_________________________________________________________________\n",
            "conv2d_12 (Conv2D)           (None, 20, 11, 64)        36928     \n",
            "_________________________________________________________________\n",
            "max_pooling2d_3 (MaxPooling2 (None, 10, 5, 64)         0         \n",
            "_________________________________________________________________\n",
            "conv2d_13 (Conv2D)           (None, 10, 5, 16)         9232      \n",
            "_________________________________________________________________\n",
            "conv2d_14 (Conv2D)           (None, 10, 5, 64)         9280      \n",
            "_________________________________________________________________\n",
            "dropout_5 (Dropout)          (None, 10, 5, 64)         0         \n",
            "_________________________________________________________________\n",
            "conv2d_15 (Conv2D)           (None, 10, 5, 32)         18464     \n",
            "_________________________________________________________________\n",
            "flatten_3 (Flatten)          (None, 1600)              0         \n",
            "_________________________________________________________________\n",
            "dropout_6 (Dropout)          (None, 1600)              0         \n",
            "_________________________________________________________________\n",
            "dense_3 (Dense)              (None, 30)                48030     \n",
            "=================================================================\n",
            "Total params: 122,574\n",
            "Trainable params: 122,574\n",
            "Non-trainable params: 0\n",
            "_________________________________________________________________\n"
          ],
          "name": "stdout"
        }
      ]
    },
    {
      "cell_type": "code",
      "metadata": {
        "id": "9nE_SxZLRRwl",
        "colab_type": "code",
        "colab": {}
      },
      "source": [
        "model.compile(loss=\"categorical_crossentropy\",\n",
        "                  optimizer=\"adam\",\n",
        "                  metrics=['accuracy'])"
      ],
      "execution_count": 0,
      "outputs": []
    },
    {
      "cell_type": "code",
      "metadata": {
        "id": "2juUtWAfRRwo",
        "colab_type": "code",
        "outputId": "3031bafe-6105-4be3-f263-2e35b286b6f2",
        "colab": {
          "base_uri": "https://localhost:8080/",
          "height": 258
        }
      },
      "source": [
        "history = model.fit(X_train, y_train, epochs = 6, validation_data=(X_test, y_test))"
      ],
      "execution_count": 0,
      "outputs": [
        {
          "output_type": "stream",
          "text": [
            "Train on 45304 samples, validate on 19417 samples\n",
            "Epoch 1/6\n",
            "45304/45304 [==============================] - 8s 175us/step - loss: 0.4361 - accuracy: 0.8620 - val_loss: 0.5293 - val_accuracy: 0.8401\n",
            "Epoch 2/6\n",
            "45304/45304 [==============================] - 8s 175us/step - loss: 0.4105 - accuracy: 0.8671 - val_loss: 0.5040 - val_accuracy: 0.8482\n",
            "Epoch 3/6\n",
            "45304/45304 [==============================] - 8s 174us/step - loss: 0.3982 - accuracy: 0.8723 - val_loss: 0.5100 - val_accuracy: 0.8466\n",
            "Epoch 4/6\n",
            "45304/45304 [==============================] - 8s 174us/step - loss: 0.3840 - accuracy: 0.8751 - val_loss: 0.5265 - val_accuracy: 0.8445\n",
            "Epoch 5/6\n",
            "45304/45304 [==============================] - 8s 177us/step - loss: 0.3723 - accuracy: 0.8795 - val_loss: 0.5153 - val_accuracy: 0.8470\n",
            "Epoch 6/6\n",
            "45304/45304 [==============================] - 8s 178us/step - loss: 0.3629 - accuracy: 0.8822 - val_loss: 0.4981 - val_accuracy: 0.8497\n"
          ],
          "name": "stdout"
        }
      ]
    },
    {
      "cell_type": "code",
      "metadata": {
        "id": "Kqk9NnaX0F1G",
        "colab_type": "code",
        "outputId": "4eea4398-f5b2-4ad8-d6e4-bf2af63882c5",
        "colab": {
          "base_uri": "https://localhost:8080/",
          "height": 590
        }
      },
      "source": [
        "print(history.history.keys())\n",
        "# summarize history for accuracy\n",
        "plt.plot(history.history['accuracy'])\n",
        "plt.plot(history.history['val_accuracy'])\n",
        "plt.title('model accuracy')\n",
        "plt.ylabel('accuracy')\n",
        "plt.xlabel('epoch')\n",
        "plt.legend(['train', 'test'], loc='upper left')\n",
        "plt.show()\n",
        "# summarize history for loss\n",
        "plt.plot(history.history['loss'])\n",
        "plt.plot(history.history['val_loss'])\n",
        "plt.title('model loss')\n",
        "plt.ylabel('loss')\n",
        "plt.xlabel('epoch')\n",
        "plt.legend(['train', 'test'], loc='upper left')\n",
        "plt.show()"
      ],
      "execution_count": 0,
      "outputs": [
        {
          "output_type": "stream",
          "text": [
            "dict_keys(['val_loss', 'val_accuracy', 'loss', 'accuracy'])\n"
          ],
          "name": "stdout"
        },
        {
          "output_type": "display_data",
          "data": {
            "image/png": "[encoded data removed]",
            "text/plain": [
              "<Figure size 432x288 with 1 Axes>"
            ]
          },
          "metadata": {
            "tags": [],
            "needs_background": "light"
          }
        },
        {
          "output_type": "display_data",
          "data": {
            "image/png": "[encoded data removed]",
            "text/plain": [
              "<Figure size 432x288 with 1 Axes>"
            ]
          },
          "metadata": {
            "tags": [],
            "needs_background": "light"
          }
        }
      ]
    },
    {
      "cell_type": "code",
      "metadata": {
        "id": "FyNrl8-URRwr",
        "colab_type": "code",
        "outputId": "a7fed80f-244d-4063-d8e5-3e5b795692d2",
        "colab": {
          "base_uri": "https://localhost:8080/",
          "height": 425
        }
      },
      "source": [
        "model = Sequential()\n",
        "model.add(Conv2D(64,activation='relu',kernel_size=3,input_shape=(20,11,1),padding='same')) #input_shape does not include batch_size\n",
        "model.add(Conv2D(64,activation='relu',kernel_size=3,padding='same'))\n",
        "model.add(MaxPooling2D(pool_size=(2,2)))\n",
        "model.add(Conv2D(16,activation='relu',kernel_size=3,padding='same'))\n",
        "model.add(Flatten())\n",
        "model.add(Dropout(0.25))\n",
        "model.add(Dense(30))\n",
        "model.add(Activation('softmax'))\n",
        "model.summary()"
      ],
      "execution_count": 0,
      "outputs": [
        {
          "output_type": "stream",
          "text": [
            "Model: \"sequential_4\"\n",
            "_________________________________________________________________\n",
            "Layer (type)                 Output Shape              Param #   \n",
            "=================================================================\n",
            "conv2d_16 (Conv2D)           (None, 20, 11, 64)        640       \n",
            "_________________________________________________________________\n",
            "conv2d_17 (Conv2D)           (None, 20, 11, 64)        36928     \n",
            "_________________________________________________________________\n",
            "max_pooling2d_4 (MaxPooling2 (None, 10, 5, 64)         0         \n",
            "_________________________________________________________________\n",
            "conv2d_18 (Conv2D)           (None, 10, 5, 16)         9232      \n",
            "_________________________________________________________________\n",
            "flatten_4 (Flatten)          (None, 800)               0         \n",
            "_________________________________________________________________\n",
            "dropout_7 (Dropout)          (None, 800)               0         \n",
            "_________________________________________________________________\n",
            "dense_4 (Dense)              (None, 30)                24030     \n",
            "_________________________________________________________________\n",
            "activation_1 (Activation)    (None, 30)                0         \n",
            "=================================================================\n",
            "Total params: 70,830\n",
            "Trainable params: 70,830\n",
            "Non-trainable params: 0\n",
            "_________________________________________________________________\n"
          ],
          "name": "stdout"
        }
      ]
    },
    {
      "cell_type": "code",
      "metadata": {
        "id": "iHfNBz0qRRwu",
        "colab_type": "code",
        "colab": {}
      },
      "source": [
        "model.compile(loss=\"categorical_crossentropy\",\n",
        "                  optimizer=\"adam\",\n",
        "                  metrics=['accuracy'])"
      ],
      "execution_count": 0,
      "outputs": []
    },
    {
      "cell_type": "code",
      "metadata": {
        "id": "XaEpJHBpRRwy",
        "colab_type": "code",
        "outputId": "ec1400c1-1da6-4d9a-dd01-9f4b1f5dfdec",
        "colab": {
          "base_uri": "https://localhost:8080/",
          "height": 394
        }
      },
      "source": [
        "history = model.fit(X_train, y_train, epochs = 10, validation_data=(X_test, y_test))"
      ],
      "execution_count": 0,
      "outputs": [
        {
          "output_type": "stream",
          "text": [
            "Train on 45304 samples, validate on 19417 samples\n",
            "Epoch 1/10\n",
            "45304/45304 [==============================] - 7s 153us/step - loss: 2.0799 - accuracy: 0.3955 - val_loss: 1.3538 - val_accuracy: 0.6070\n",
            "Epoch 2/10\n",
            "45304/45304 [==============================] - 7s 148us/step - loss: 1.1859 - accuracy: 0.6476 - val_loss: 0.9539 - val_accuracy: 0.7134\n",
            "Epoch 3/10\n",
            "45304/45304 [==============================] - 7s 148us/step - loss: 0.9119 - accuracy: 0.7261 - val_loss: 0.7615 - val_accuracy: 0.7752\n",
            "Epoch 4/10\n",
            "45304/45304 [==============================] - 7s 150us/step - loss: 0.7913 - accuracy: 0.7602 - val_loss: 0.7180 - val_accuracy: 0.7888\n",
            "Epoch 5/10\n",
            "45304/45304 [==============================] - 7s 147us/step - loss: 0.7117 - accuracy: 0.7847 - val_loss: 0.6587 - val_accuracy: 0.8054\n",
            "Epoch 6/10\n",
            "45304/45304 [==============================] - 7s 149us/step - loss: 0.6577 - accuracy: 0.8007 - val_loss: 0.6323 - val_accuracy: 0.8125\n",
            "Epoch 7/10\n",
            "45304/45304 [==============================] - 7s 148us/step - loss: 0.6198 - accuracy: 0.8093 - val_loss: 0.6415 - val_accuracy: 0.8101\n",
            "Epoch 8/10\n",
            "45304/45304 [==============================] - 7s 149us/step - loss: 0.5880 - accuracy: 0.8196 - val_loss: 0.6032 - val_accuracy: 0.8185\n",
            "Epoch 9/10\n",
            "45304/45304 [==============================] - 7s 154us/step - loss: 0.5582 - accuracy: 0.8286 - val_loss: 0.5863 - val_accuracy: 0.8251\n",
            "Epoch 10/10\n",
            "45304/45304 [==============================] - 7s 154us/step - loss: 0.5326 - accuracy: 0.8330 - val_loss: 0.5714 - val_accuracy: 0.8291\n"
          ],
          "name": "stdout"
        }
      ]
    },
    {
      "cell_type": "code",
      "metadata": {
        "id": "zOzHw8xiCsEo",
        "colab_type": "code",
        "outputId": "d37ffb33-2a41-4b9e-e14c-bd5c3d3e250c",
        "colab": {
          "base_uri": "https://localhost:8080/",
          "height": 590
        }
      },
      "source": [
        "print(history.history.keys())\n",
        "# summarize history for accuracy\n",
        "plt.plot(history.history['accuracy'])\n",
        "plt.plot(history.history['val_accuracy'])\n",
        "plt.title('model accuracy')\n",
        "plt.ylabel('accuracy')\n",
        "plt.xlabel('epoch')\n",
        "plt.legend(['train', 'test'], loc='upper left')\n",
        "plt.show()\n",
        "# summarize history for loss\n",
        "plt.plot(history.history['loss'])\n",
        "plt.plot(history.history['val_loss'])\n",
        "plt.title('model loss')\n",
        "plt.ylabel('loss')\n",
        "plt.xlabel('epoch')\n",
        "plt.legend(['train', 'test'], loc='upper left')\n",
        "plt.show()"
      ],
      "execution_count": 0,
      "outputs": [
        {
          "output_type": "stream",
          "text": [
            "dict_keys(['val_loss', 'val_accuracy', 'loss', 'accuracy'])\n"
          ],
          "name": "stdout"
        },
        {
          "output_type": "display_data",
          "data": {
            "image/png": "[encoded data removed]",
            "text/plain": [
              "<Figure size 432x288 with 1 Axes>"
            ]
          },
          "metadata": {
            "tags": [],
            "needs_background": "light"
          }
        },
        {
          "output_type": "display_data",
          "data": {
            "image/png": "[encoded data removed]",
            "text/plain": [
              "<Figure size 432x288 with 1 Axes>"
            ]
          },
          "metadata": {
            "tags": [],
            "needs_background": "light"
          }
        }
      ]
    },
    {
      "cell_type": "code",
      "metadata": {
        "id": "Pw3562B4RRw_",
        "colab_type": "code",
        "outputId": "72274744-4045-4c80-86a4-6aaf0f4062b1",
        "colab": {
          "base_uri": "https://localhost:8080/",
          "height": 51
        }
      },
      "source": [
        "pred = model.predict(X_train[0].reshape(1,20,11,1))\n",
        "print(pred.argmax())\n",
        "print(labels[pred.argmax()])"
      ],
      "execution_count": 0,
      "outputs": [
        {
          "output_type": "stream",
          "text": [
            "0\n",
            "seven\n"
          ],
          "name": "stdout"
        }
      ]
    },
    {
      "cell_type": "code",
      "metadata": {
        "id": "g_XpMKVlRRxC",
        "colab_type": "code",
        "outputId": "2497c54d-cf8c-42d2-8b5f-ffbf753e6c3c",
        "colab": {
          "base_uri": "https://localhost:8080/",
          "height": 51
        }
      },
      "source": [
        "y_train[0]"
      ],
      "execution_count": 0,
      "outputs": [
        {
          "output_type": "execute_result",
          "data": {
            "text/plain": [
              "array([0., 0., 0., 0., 0., 0., 0., 0., 0., 0., 0., 0., 0., 1., 0., 0., 0.,\n",
              "       0., 0., 0., 0., 0., 0., 0., 0., 0., 0., 0., 0., 0.], dtype=float32)"
            ]
          },
          "metadata": {
            "tags": []
          },
          "execution_count": 77
        }
      ]
    },
    {
      "cell_type": "markdown",
      "metadata": {
        "id": "ZTbcdBhoRRxF",
        "colab_type": "text"
      },
      "source": [
        "### Using SpeechRecognition api"
      ]
    },
    {
      "cell_type": "code",
      "metadata": {
        "id": "XwfmTeKDRRxF",
        "colab_type": "code",
        "outputId": "48977b27-448c-4f6b-d633-ad722415c7d7",
        "colab": {}
      },
      "source": [
        "import speech_recognition as sr\n",
        "r = sr.Recognizer()\n",
        "bird = sr.AudioFile('bird.wav')\n",
        "with bird as source:\n",
        "    audio = r.record(source)\n",
        "type(audio)"
      ],
      "execution_count": 0,
      "outputs": [
        {
          "output_type": "execute_result",
          "data": {
            "text/plain": [
              "speech_recognition.AudioData"
            ]
          },
          "metadata": {
            "tags": []
          },
          "execution_count": 47
        }
      ]
    },
    {
      "cell_type": "code",
      "metadata": {
        "id": "6C-FCMnrRRxJ",
        "colab_type": "code",
        "outputId": "7aa61d8b-dd3e-4fc4-8981-e5d795761fd5",
        "colab": {}
      },
      "source": [
        "r.recognize_google(audio)"
      ],
      "execution_count": 0,
      "outputs": [
        {
          "output_type": "execute_result",
          "data": {
            "text/plain": [
              "'Bird'"
            ]
          },
          "metadata": {
            "tags": []
          },
          "execution_count": 48
        }
      ]
    }
  ]
}